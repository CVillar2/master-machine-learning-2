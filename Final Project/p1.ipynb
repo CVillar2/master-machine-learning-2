{
 "cells": [
  {
   "attachments": {},
   "cell_type": "markdown",
   "metadata": {},
   "source": [
    "# Lab Practice:  Stream Processing\n",
    "Machine Learning 2 (Master's Degree in AI, UDC)\n",
    "\n",
    "Authors:\n",
    "1. Carlos Villar Martínez\n",
    "1. Ovidio Manteiga Moar"
   ]
  },
  {
   "attachments": {},
   "cell_type": "markdown",
   "metadata": {},
   "source": [
    "## Problem description\n",
    "\n",
    "The chosen problem consists in predicting the weather from weather data using this dataset https://www.kaggle.com/selfishgene/historical-hourly-weather-data)\n",
    "\n",
    "The dataset contains some 5 years of high temporal resolution (hourly measurements) data of various weather attributes:\n",
    "\n",
    "1. Temperature\n",
    "1. Humidity\n",
    "1. Pressure\n",
    "1. Wind speed\n",
    "1. Wind direction\n",
    "1. Weather description\n",
    "\n",
    "This data is available for 30 US and Canadian Cities, as well as 6 Israeli cities.\n",
    "Each attribute has its own file and is organized such that the rows are the time axis (same time axis for all files), and the columns are the different cities (same city ordering for all files as well). Besides, for each city there is additional information of its country, latitude and longitude information in a separate file.\n",
    "\n",
    "The possible weather descriptions are:\n",
    "\n",
    "1. mist\n",
    "1. broken clouds\n",
    "1. sky is clear\n",
    "1. light rain\n",
    "1. few clouds\n",
    "1. fog\n",
    "1. overcast clouds\n",
    "1. light intensity shower rain\n",
    "1. moderate rain\n",
    "1. light intensity drizzle\n",
    "1. scattered clouds\n",
    "1. proximity shower rain\n",
    "1. heavy intensity rain\n",
    "1. heavy snow\n",
    "1. shower rain\n",
    "1. snow\n",
    "1. heavy shower snow\n",
    "1. light intensity drizzle rain\n",
    "1. light snow\n",
    "1. very heavy rain\n",
    "1. smoke\n",
    "1. thunderstorm with heavy rain\n",
    "1. light shower snow\n",
    "1. haze\n",
    "1. proximity thunderstorm\n",
    "1. thunderstorm\n",
    "1. heavy intensity drizzle\n",
    "1. drizzle\n",
    "1. thunderstorm with rain\n",
    "1. thunderstorm with light rain\n",
    "1. squalls\n",
    "1. dust\n",
    "1. proximity moderate rain\n",
    "1. sand\n",
    "1. sleet\n",
    "1. proximity thunderstorm with drizzle\n",
    "1. proximity thunderstorm with rain\n",
    "1. thunderstorm with heavy drizzle\n",
    "1. heavy intensity shower rain\n",
    "1. shower snow\n",
    "1. light rain and snow\n",
    "1. thunderstorm with light drizzle\n",
    "1. shower drizzle\n",
    "1. freezing rain\n",
    "1. light shower sleet\n",
    "1. volcanic ash\n",
    "\n",
    "\n",
    "### Problem specification\n",
    "\n",
    "The first approach is predicting the current weather condition in a certain city given the other weather features. This is a supervised multiclass classification problem, since we will have the true classes corresponding to the weather description at each moment in time.\n",
    "\n",
    "Another variant of the classification problem that can be more interesting for actual weather prediction consists of predicting the future weather based on the weather features from some previous days. This approach could also be more suitable for the stream learning approach, without needing to transform the dataset beforehand."
   ]
  },
  {
   "cell_type": "code",
   "execution_count": 36,
   "metadata": {},
   "outputs": [],
   "source": [
    "from dataclasses import dataclass\n",
    "import pandas as pd\n",
    "import numpy as np\n",
    "import matplotlib.pyplot as plt\n",
    "from matplotlib import gridspec\n",
    "\n",
    "from sklearn.ensemble import RandomForestClassifier\n",
    "from sklearn.neighbors import KNeighborsClassifier\n",
    "from sklearn.tree import DecisionTreeClassifier\n",
    "from sklearn.svm import SVC\n",
    "from sklearn.metrics import make_scorer, accuracy_score\n",
    "from sklearn.model_selection import cross_val_score, KFold, cross_validate\n",
    "from sklearn.pipeline import Pipeline\n",
    "from sklearn.preprocessing import StandardScaler\n",
    "from sklearn.preprocessing import LabelEncoder\n",
    "from sklearn.neural_network import MLPClassifier\n",
    "\n",
    "from river import feature_extraction, neighbors, metrics, preprocessing, stats, utils, stream, evaluate, compose, tree\n",
    "from river.tree import HoeffdingTreeClassifier\n",
    "from river.linear_model import LogisticRegression\n",
    "from river import drift\n",
    "from river import ensemble"
   ]
  },
  {
   "attachments": {},
   "cell_type": "markdown",
   "metadata": {},
   "source": [
    "## Prepare dataset\n",
    "\n",
    "The dataset contains data from multiple cities, but for the purpose of this assignment, we only considered one of the cities, since there will be significant variations on the relationship between the weather variables across cities. For example, winds coming from the south in a city might bring humidity and clouds, while in another city might bring dry air and heat."
   ]
  },
  {
   "cell_type": "code",
   "execution_count": 37,
   "metadata": {},
   "outputs": [
    {
     "data": {
      "text/html": [
       "<div>\n",
       "<style scoped>\n",
       "    .dataframe tbody tr th:only-of-type {\n",
       "        vertical-align: middle;\n",
       "    }\n",
       "\n",
       "    .dataframe tbody tr th {\n",
       "        vertical-align: top;\n",
       "    }\n",
       "\n",
       "    .dataframe thead th {\n",
       "        text-align: right;\n",
       "    }\n",
       "</style>\n",
       "<table border=\"1\" class=\"dataframe\">\n",
       "  <thead>\n",
       "    <tr style=\"text-align: right;\">\n",
       "      <th></th>\n",
       "      <th>humidity</th>\n",
       "      <th>datetime</th>\n",
       "      <th>temperature</th>\n",
       "      <th>pressure</th>\n",
       "      <th>wind_speed</th>\n",
       "      <th>wind_direction</th>\n",
       "      <th>weather_description</th>\n",
       "    </tr>\n",
       "  </thead>\n",
       "  <tbody>\n",
       "    <tr>\n",
       "      <th>1</th>\n",
       "      <td>58.0</td>\n",
       "      <td>2012-10-01 13:00:00</td>\n",
       "      <td>288.220000</td>\n",
       "      <td>1012.0</td>\n",
       "      <td>7.0</td>\n",
       "      <td>260.0</td>\n",
       "      <td>few clouds</td>\n",
       "    </tr>\n",
       "    <tr>\n",
       "      <th>2</th>\n",
       "      <td>57.0</td>\n",
       "      <td>2012-10-01 14:00:00</td>\n",
       "      <td>288.247676</td>\n",
       "      <td>1012.0</td>\n",
       "      <td>7.0</td>\n",
       "      <td>260.0</td>\n",
       "      <td>few clouds</td>\n",
       "    </tr>\n",
       "    <tr>\n",
       "      <th>3</th>\n",
       "      <td>57.0</td>\n",
       "      <td>2012-10-01 15:00:00</td>\n",
       "      <td>288.326940</td>\n",
       "      <td>1012.0</td>\n",
       "      <td>7.0</td>\n",
       "      <td>260.0</td>\n",
       "      <td>few clouds</td>\n",
       "    </tr>\n",
       "    <tr>\n",
       "      <th>4</th>\n",
       "      <td>57.0</td>\n",
       "      <td>2012-10-01 16:00:00</td>\n",
       "      <td>288.406203</td>\n",
       "      <td>1012.0</td>\n",
       "      <td>7.0</td>\n",
       "      <td>260.0</td>\n",
       "      <td>few clouds</td>\n",
       "    </tr>\n",
       "    <tr>\n",
       "      <th>5</th>\n",
       "      <td>57.0</td>\n",
       "      <td>2012-10-01 17:00:00</td>\n",
       "      <td>288.485467</td>\n",
       "      <td>1012.0</td>\n",
       "      <td>6.0</td>\n",
       "      <td>261.0</td>\n",
       "      <td>few clouds</td>\n",
       "    </tr>\n",
       "    <tr>\n",
       "      <th>...</th>\n",
       "      <td>...</td>\n",
       "      <td>...</td>\n",
       "      <td>...</td>\n",
       "      <td>...</td>\n",
       "      <td>...</td>\n",
       "      <td>...</td>\n",
       "      <td>...</td>\n",
       "    </tr>\n",
       "    <tr>\n",
       "      <th>44456</th>\n",
       "      <td>36.0</td>\n",
       "      <td>2017-10-27 20:00:00</td>\n",
       "      <td>289.980000</td>\n",
       "      <td>1019.0</td>\n",
       "      <td>3.0</td>\n",
       "      <td>0.0</td>\n",
       "      <td>sky is clear</td>\n",
       "    </tr>\n",
       "    <tr>\n",
       "      <th>44457</th>\n",
       "      <td>38.0</td>\n",
       "      <td>2017-10-27 21:00:00</td>\n",
       "      <td>289.480000</td>\n",
       "      <td>1019.0</td>\n",
       "      <td>1.0</td>\n",
       "      <td>0.0</td>\n",
       "      <td>sky is clear</td>\n",
       "    </tr>\n",
       "    <tr>\n",
       "      <th>44458</th>\n",
       "      <td>54.0</td>\n",
       "      <td>2017-10-27 22:00:00</td>\n",
       "      <td>287.920000</td>\n",
       "      <td>1019.0</td>\n",
       "      <td>2.0</td>\n",
       "      <td>196.0</td>\n",
       "      <td>sky is clear</td>\n",
       "    </tr>\n",
       "    <tr>\n",
       "      <th>44459</th>\n",
       "      <td>62.0</td>\n",
       "      <td>2017-10-27 23:00:00</td>\n",
       "      <td>285.830000</td>\n",
       "      <td>1020.0</td>\n",
       "      <td>3.0</td>\n",
       "      <td>171.0</td>\n",
       "      <td>sky is clear</td>\n",
       "    </tr>\n",
       "    <tr>\n",
       "      <th>44460</th>\n",
       "      <td>58.0</td>\n",
       "      <td>2017-10-28 00:00:00</td>\n",
       "      <td>284.980000</td>\n",
       "      <td>1020.0</td>\n",
       "      <td>2.0</td>\n",
       "      <td>0.0</td>\n",
       "      <td>sky is clear</td>\n",
       "    </tr>\n",
       "  </tbody>\n",
       "</table>\n",
       "<p>43609 rows × 7 columns</p>\n",
       "</div>"
      ],
      "text/plain": [
       "       humidity             datetime  temperature  pressure  wind_speed  \\\n",
       "1          58.0  2012-10-01 13:00:00   288.220000    1012.0         7.0   \n",
       "2          57.0  2012-10-01 14:00:00   288.247676    1012.0         7.0   \n",
       "3          57.0  2012-10-01 15:00:00   288.326940    1012.0         7.0   \n",
       "4          57.0  2012-10-01 16:00:00   288.406203    1012.0         7.0   \n",
       "5          57.0  2012-10-01 17:00:00   288.485467    1012.0         6.0   \n",
       "...         ...                  ...          ...       ...         ...   \n",
       "44456      36.0  2017-10-27 20:00:00   289.980000    1019.0         3.0   \n",
       "44457      38.0  2017-10-27 21:00:00   289.480000    1019.0         1.0   \n",
       "44458      54.0  2017-10-27 22:00:00   287.920000    1019.0         2.0   \n",
       "44459      62.0  2017-10-27 23:00:00   285.830000    1020.0         3.0   \n",
       "44460      58.0  2017-10-28 00:00:00   284.980000    1020.0         2.0   \n",
       "\n",
       "       wind_direction weather_description  \n",
       "1               260.0          few clouds  \n",
       "2               260.0          few clouds  \n",
       "3               260.0          few clouds  \n",
       "4               260.0          few clouds  \n",
       "5               261.0          few clouds  \n",
       "...               ...                 ...  \n",
       "44456             0.0        sky is clear  \n",
       "44457             0.0        sky is clear  \n",
       "44458           196.0        sky is clear  \n",
       "44459           171.0        sky is clear  \n",
       "44460             0.0        sky is clear  \n",
       "\n",
       "[43609 rows x 7 columns]"
      ]
     },
     "metadata": {},
     "output_type": "display_data"
    },
    {
     "name": "stdout",
     "output_type": "stream",
     "text": [
      "Total samples = 43609\n",
      "                                     count  percentage\n",
      "weather_description                                   \n",
      "sky is clear                         11341   26.006100\n",
      "broken clouds                         6142   14.084249\n",
      "mist                                  5399   12.380472\n",
      "scattered clouds                      4485   10.284574\n",
      "overcast clouds                       4316    9.897040\n",
      "light rain                            3947    9.050884\n",
      "few clouds                            3267    7.491573\n",
      "fog                                   1077    2.469674\n",
      "moderate rain                          933    2.139467\n",
      "haze                                   690    1.582242\n",
      "light intensity drizzle                401    0.919535\n",
      "light snow                             383    0.878259\n",
      "heavy intensity rain                   369    0.846156\n",
      "drizzle                                222    0.509069\n",
      "heavy snow                             120    0.275173\n",
      "proximity thunderstorm                 114    0.261414\n",
      "snow                                    98    0.224724\n",
      "very heavy rain                         82    0.188035\n",
      "thunderstorm                            74    0.169690\n",
      "thunderstorm with light rain            36    0.082552\n",
      "dust                                    21    0.048155\n",
      "thunderstorm with rain                  20    0.045862\n",
      "heavy intensity drizzle                 20    0.045862\n",
      "thunderstorm with heavy rain            12    0.027517\n",
      "light rain and snow                     11    0.025224\n",
      "smoke                                    9    0.020638\n",
      "freezing rain                            5    0.011466\n",
      "squalls                                  4    0.009172\n",
      "proximity thunderstorm with rain         3    0.006879\n",
      "thunderstorm with light drizzle          2    0.004586\n",
      "shower rain                              1    0.002293\n",
      "sand/dust whirls                         1    0.002293\n",
      "sand                                     1    0.002293\n",
      "light intensity shower rain              1    0.002293\n",
      "heavy thunderstorm                       1    0.002293\n",
      "proximity thunderstorm with drizzle      1    0.002293\n"
     ]
    },
    {
     "data": {
      "text/html": [
       "<div>\n",
       "<style scoped>\n",
       "    .dataframe tbody tr th:only-of-type {\n",
       "        vertical-align: middle;\n",
       "    }\n",
       "\n",
       "    .dataframe tbody tr th {\n",
       "        vertical-align: top;\n",
       "    }\n",
       "\n",
       "    .dataframe thead th {\n",
       "        text-align: right;\n",
       "    }\n",
       "</style>\n",
       "<table border=\"1\" class=\"dataframe\">\n",
       "  <thead>\n",
       "    <tr style=\"text-align: right;\">\n",
       "      <th></th>\n",
       "      <th>weather_description</th>\n",
       "    </tr>\n",
       "  </thead>\n",
       "  <tbody>\n",
       "    <tr>\n",
       "      <th>1</th>\n",
       "      <td>few clouds</td>\n",
       "    </tr>\n",
       "    <tr>\n",
       "      <th>2</th>\n",
       "      <td>few clouds</td>\n",
       "    </tr>\n",
       "    <tr>\n",
       "      <th>3</th>\n",
       "      <td>few clouds</td>\n",
       "    </tr>\n",
       "    <tr>\n",
       "      <th>4</th>\n",
       "      <td>few clouds</td>\n",
       "    </tr>\n",
       "    <tr>\n",
       "      <th>5</th>\n",
       "      <td>few clouds</td>\n",
       "    </tr>\n",
       "    <tr>\n",
       "      <th>...</th>\n",
       "      <td>...</td>\n",
       "    </tr>\n",
       "    <tr>\n",
       "      <th>44456</th>\n",
       "      <td>sky is clear</td>\n",
       "    </tr>\n",
       "    <tr>\n",
       "      <th>44457</th>\n",
       "      <td>sky is clear</td>\n",
       "    </tr>\n",
       "    <tr>\n",
       "      <th>44458</th>\n",
       "      <td>sky is clear</td>\n",
       "    </tr>\n",
       "    <tr>\n",
       "      <th>44459</th>\n",
       "      <td>sky is clear</td>\n",
       "    </tr>\n",
       "    <tr>\n",
       "      <th>44460</th>\n",
       "      <td>sky is clear</td>\n",
       "    </tr>\n",
       "  </tbody>\n",
       "</table>\n",
       "<p>43609 rows × 1 columns</p>\n",
       "</div>"
      ],
      "text/plain": [
       "      weather_description\n",
       "1              few clouds\n",
       "2              few clouds\n",
       "3              few clouds\n",
       "4              few clouds\n",
       "5              few clouds\n",
       "...                   ...\n",
       "44456        sky is clear\n",
       "44457        sky is clear\n",
       "44458        sky is clear\n",
       "44459        sky is clear\n",
       "44460        sky is clear\n",
       "\n",
       "[43609 rows x 1 columns]"
      ]
     },
     "metadata": {},
     "output_type": "display_data"
    }
   ],
   "source": [
    "\n",
    "# Select the city to work with.\n",
    "city = \"New York\"\n",
    "\n",
    "dateset_path = \"./dataset/\"\n",
    "csvs = [\"humidity\", \"temperature\", \"pressure\", \"wind_speed\", \"wind_direction\", \"weather_description\"]\n",
    "\n",
    "new_df = pd.DataFrame()\n",
    "\n",
    "# Read the CSV files into a dataframe.\n",
    "for csv in csvs:\n",
    "    csv_file = dateset_path + csv + \".csv\"\n",
    "    df = pd.read_csv(csv_file)\n",
    "    city_col = df[city]\n",
    "    new_df[csv] = city_col\n",
    "    datetime_col = df[\"datetime\"]\n",
    "    new_df[\"datetime\"] = datetime_col\n",
    "\n",
    "# Removes rows with NaN.\n",
    "new_df = new_df.dropna()\n",
    "display(new_df)\n",
    "\n",
    "# Assign the inputs and targets data frames.\n",
    "inputs = new_df.iloc[:, 0:6]\n",
    "inputs_with_times = inputs.copy()\n",
    "inputs = inputs.drop(['datetime'], axis=1)\n",
    "targets = new_df[['weather_description']]\n",
    "\n",
    "# Check if the dataset is balanced\n",
    "total_samples = len(targets)\n",
    "print(f\"Total samples = {total_samples}\")\n",
    "class_counts = targets.value_counts().to_frame(name=\"count\")\n",
    "class_counts[\"percentage\"] = class_counts * 100 / total_samples\n",
    "\n",
    "print(class_counts)\n",
    "display(targets)"
   ]
  },
  {
   "attachments": {},
   "cell_type": "markdown",
   "metadata": {},
   "source": [
    "## Dataset analysis \n",
    "\n",
    "The classes are not balanced and there are very few samples for some of the most infrequent weather conditions.\n",
    "\n",
    "The most frequent class for NYC is _sky is clear_ which represents more than 25% of the data, whereas the second most frequent class is _broken clouds_ with less than 15% of the samples. Also, there are many classes with only one or no samples.\n",
    "\n",
    "Even though the dataset is unbalanced, since we are more interested in the predictions of the most common classes, no balancing techniques are applied. Besides there are a lot of classes with very little samples, so in order to make them more relevant for training, we might be losing some generality of the model where in actuality these clases represent very rare cases in the distribution. Moreover, for stream learning, we might be invalidating the aggreagate features any sort of downampling or upsampling is applied, for example when choosing rolling averages of a certain feature during the last 24 hours. \n",
    "\n",
    "### Metrics\n",
    "\n",
    "Since the dataset is unbalanced, accuracy cannot be the only metric. In this case, we are using the F1 score as the metric to evaluate the models.\n",
    "\n",
    "In this problem there is no clear preference of false positives over false negatives, so precision and recall are not to be used for deciding in case of similar F1 scores.\n",
    "\n",
    "To be able to see also the accuracy, we are going to use the classification report alternatively in some of the executions."
   ]
  },
  {
   "cell_type": "code",
   "execution_count": 38,
   "metadata": {},
   "outputs": [],
   "source": [
    "\n",
    "# Defines the result of evaluating a model.\n",
    "\n",
    "@dataclass\n",
    "class ModelResult:\n",
    "    name: str\n",
    "    val_score: float\n",
    "    val_score_std: float\n",
    "\n",
    "# List of model results to be printed later.\n",
    "model_results = []\n",
    "\n",
    "# Adds a batch model result to the results.\n",
    "def add_batch_result(name, scores):\n",
    "    avg = scores['test_f1_weighted'].mean()\n",
    "    std = scores['test_f1_weighted'].std()\n",
    "    model_results.append(ModelResult(\"B/\" + name, avg, std))\n",
    "\n",
    "# Adds a stream model result to the results.\n",
    "def add_stream_result(name, metric):\n",
    "    model_results.append(ModelResult(\"S/\" + name, metric.get(), 0))\n"
   ]
  },
  {
   "attachments": {},
   "cell_type": "markdown",
   "metadata": {},
   "source": [
    "## Batch models "
   ]
  },
  {
   "cell_type": "code",
   "execution_count": 39,
   "metadata": {},
   "outputs": [],
   "source": [
    "\n",
    "# Prepare inputs\n",
    "X = inputs.copy()\n",
    "\n",
    "# Prepare outputs\n",
    "le = LabelEncoder()\n",
    "le.fit(targets.to_numpy().ravel())\n",
    "y = le.transform(targets.to_numpy().ravel())\n",
    "transformed_targets = pd.DataFrame()\n",
    "transformed_targets['weather_description'] = y\n",
    "\n",
    "def cross_validate_model(a_model):\n",
    "    # Configure and run cross-validation\n",
    "    cross_validation = KFold(n_splits=5, shuffle=True, random_state=42)\n",
    "    scores = cross_validate(a_model, X, y, scoring=['accuracy', 'f1_weighted'], cv=cross_validation)\n",
    "    # Display the average score and its standard deviation\n",
    "    print(f\"Accuracy: {scores['test_accuracy'].mean():.4f} (± {scores['test_accuracy'].std():.4f})\")\n",
    "    print(f\"F1-weighted: {scores['test_f1_weighted'].mean():.4f} (± {scores['test_f1_weighted'].std():.4f})\")\n",
    "    return scores"
   ]
  },
  {
   "attachments": {},
   "cell_type": "markdown",
   "metadata": {},
   "source": [
    "### Hyper-parameter tuning\n",
    "\n",
    "Hyper-parameter tuning is performed on the batch models to be later applied on the equivalent stream models in a similar fashion. For example, in the following cell, Different maximum depths for a decision tree are used to find the better one. "
   ]
  },
  {
   "cell_type": "code",
   "execution_count": 40,
   "metadata": {},
   "outputs": [
    {
     "name": "stdout",
     "output_type": "stream",
     "text": [
      "Max depth = 1\n",
      "Accuracy: 0.2881 (± 0.0100)\n",
      "F1-weighted: 0.1597 (± 0.0069)\n",
      "Max depth = 2\n",
      "Accuracy: 0.3098 (± 0.0051)\n",
      "F1-weighted: 0.2143 (± 0.0045)\n",
      "Max depth = 3\n",
      "Accuracy: 0.3120 (± 0.0057)\n",
      "F1-weighted: 0.2210 (± 0.0069)\n",
      "Max depth = 4\n",
      "Accuracy: 0.3242 (± 0.0047)\n",
      "F1-weighted: 0.2274 (± 0.0048)\n",
      "Max depth = 5\n",
      "Accuracy: 0.3296 (± 0.0061)\n",
      "F1-weighted: 0.2420 (± 0.0060)\n",
      "Max depth = 6\n",
      "Accuracy: 0.3364 (± 0.0049)\n",
      "F1-weighted: 0.2456 (± 0.0052)\n",
      "Max depth = 7\n",
      "Accuracy: 0.3417 (± 0.0051)\n",
      "F1-weighted: 0.2676 (± 0.0058)\n",
      "Max depth = 8\n",
      "Accuracy: 0.3471 (± 0.0062)\n",
      "F1-weighted: 0.2812 (± 0.0061)\n",
      "Max depth = 9\n",
      "Accuracy: 0.3527 (± 0.0071)\n",
      "F1-weighted: 0.2949 (± 0.0115)\n",
      "Max depth = 10\n",
      "Accuracy: 0.3547 (± 0.0083)\n",
      "F1-weighted: 0.3058 (± 0.0092)\n",
      "Max depth = 11\n",
      "Accuracy: 0.3595 (± 0.0081)\n",
      "F1-weighted: 0.3184 (± 0.0091)\n",
      "Max depth = 12\n",
      "Accuracy: 0.3637 (± 0.0082)\n",
      "F1-weighted: 0.3292 (± 0.0099)\n",
      "Max depth = 13\n",
      "Accuracy: 0.3631 (± 0.0067)\n",
      "F1-weighted: 0.3345 (± 0.0071)\n",
      "Max depth = 14\n",
      "Accuracy: 0.3631 (± 0.0067)\n",
      "F1-weighted: 0.3400 (± 0.0074)\n",
      "Max depth = 15\n",
      "Accuracy: 0.3652 (± 0.0079)\n",
      "F1-weighted: 0.3474 (± 0.0077)\n",
      "Max depth = 16\n",
      "Accuracy: 0.3674 (± 0.0050)\n",
      "F1-weighted: 0.3535 (± 0.0060)\n",
      "Max depth = 17\n",
      "Accuracy: 0.3684 (± 0.0063)\n",
      "F1-weighted: 0.3579 (± 0.0071)\n",
      "Max depth = 18\n",
      "Accuracy: 0.3680 (± 0.0073)\n",
      "F1-weighted: 0.3607 (± 0.0080)\n",
      "Max depth = 19\n",
      "Accuracy: 0.3672 (± 0.0085)\n",
      "F1-weighted: 0.3617 (± 0.0091)\n",
      "Max depth = 20\n",
      "Accuracy: 0.3665 (± 0.0074)\n",
      "F1-weighted: 0.3625 (± 0.0076)\n",
      "Max depth = 21\n",
      "Accuracy: 0.3664 (± 0.0094)\n",
      "F1-weighted: 0.3638 (± 0.0090)\n",
      "Max depth = 22\n",
      "Accuracy: 0.3663 (± 0.0056)\n",
      "F1-weighted: 0.3646 (± 0.0056)\n",
      "Max depth = 23\n",
      "Accuracy: 0.3689 (± 0.0073)\n",
      "F1-weighted: 0.3680 (± 0.0075)\n",
      "Max depth = 24\n",
      "Accuracy: 0.3669 (± 0.0066)\n",
      "F1-weighted: 0.3666 (± 0.0065)\n"
     ]
    }
   ],
   "source": [
    "for d in range(1,25):\n",
    "    print(f\"Max depth = {d}\")\n",
    "    pipe_dt2 = Pipeline([\n",
    "        ('scale', StandardScaler()),\n",
    "        ('classifier', DecisionTreeClassifier(max_depth=d))\n",
    "    ])\n",
    "    scores = cross_validate_model(pipe_dt2)"
   ]
  },
  {
   "attachments": {},
   "cell_type": "markdown",
   "metadata": {},
   "source": [
    "### Cross-validation of batch models"
   ]
  },
  {
   "cell_type": "code",
   "execution_count": 41,
   "metadata": {},
   "outputs": [
    {
     "name": "stdout",
     "output_type": "stream",
     "text": [
      "Accuracy: 0.3683 (± 0.0062)\n",
      "F1-weighted: 0.3579 (± 0.0071)\n"
     ]
    }
   ],
   "source": [
    "pipe_dt2 = Pipeline([\n",
    "    ('scale', StandardScaler()),\n",
    "    ('classifier', DecisionTreeClassifier(max_depth=17))\n",
    "])\n",
    "scores = cross_validate_model(pipe_dt2)\n",
    "add_batch_result(\"DT\", scores)"
   ]
  },
  {
   "cell_type": "code",
   "execution_count": 42,
   "metadata": {},
   "outputs": [
    {
     "name": "stdout",
     "output_type": "stream",
     "text": [
      "Accuracy: 0.3651 (± 0.0054)\n",
      "F1-weighted: 0.3584 (± 0.0052)\n"
     ]
    }
   ],
   "source": [
    "pipe_knn = Pipeline([\n",
    "    ('scale', StandardScaler()),\n",
    "    ('classifier', KNeighborsClassifier())\n",
    "])\n",
    "scores = cross_validate_model(pipe_knn)\n",
    "add_batch_result(\"KNN\", scores)"
   ]
  },
  {
   "cell_type": "code",
   "execution_count": 43,
   "metadata": {},
   "outputs": [
    {
     "name": "stdout",
     "output_type": "stream",
     "text": [
      "Accuracy: 0.3420 (± 0.0030)\n",
      "F1-weighted: 0.2568 (± 0.0021)\n"
     ]
    }
   ],
   "source": [
    "pipe_ann = Pipeline([\n",
    "    ('scale', StandardScaler()),\n",
    "    ('classifier', MLPClassifier([10,10], solver='adam', max_iter=500))\n",
    "])\n",
    "scores = cross_validate_model(pipe_ann)\n",
    "add_batch_result(\"ANN\", scores)"
   ]
  },
  {
   "cell_type": "code",
   "execution_count": 44,
   "metadata": {},
   "outputs": [
    {
     "name": "stdout",
     "output_type": "stream",
     "text": [
      "Accuracy: 0.4637 (± 0.0073)\n",
      "F1-weighted: 0.4457 (± 0.0071)\n"
     ]
    }
   ],
   "source": [
    "pipe_rf = Pipeline([\n",
    "    ('scale', StandardScaler()),\n",
    "    ('classifier', RandomForestClassifier())\n",
    "])\n",
    "scores = cross_validate_model(pipe_rf)\n",
    "add_batch_result(\"RF\", scores)"
   ]
  },
  {
   "attachments": {},
   "cell_type": "markdown",
   "metadata": {},
   "source": [
    "## Stream models\n",
    "\n",
    "### Simple stream model"
   ]
  },
  {
   "cell_type": "code",
   "execution_count": 45,
   "metadata": {},
   "outputs": [
    {
     "name": "stdout",
     "output_type": "stream",
     "text": [
      "[10,000] WeightedF1: 49.82%\n",
      "[20,000] WeightedF1: 48.59%\n",
      "[30,000] WeightedF1: 46.97%\n",
      "[40,000] WeightedF1: 46.49%\n"
     ]
    }
   ],
   "source": [
    "\n",
    "data = stream.iter_pandas(inputs, transformed_targets.iloc[:,0])\n",
    "\n",
    "model = preprocessing.StandardScaler()\n",
    "model |= neighbors.KNNClassifier()\n",
    "\n",
    "metric = metrics.WeightedF1()\n",
    "scores = evaluate.progressive_val_score(dataset=data, model=model, metric=metric, print_every=10_000)\n",
    "add_stream_result(\"KNN\", metric)"
   ]
  },
  {
   "attachments": {},
   "cell_type": "markdown",
   "metadata": {},
   "source": [
    "- KNN Classifier only: accuracy 42%\n",
    "- KNN Classifier with scaler: accuracy 46% (reaches 50% at some checkpoints)"
   ]
  },
  {
   "attachments": {},
   "cell_type": "markdown",
   "metadata": {},
   "source": [
    "### Stream model with features and different scaling\n",
    "\n",
    "After trying the first simple model, we applied feature engineering and data normalization to try to improve it.\n",
    "\n",
    "The engineered features where rolling averages of the input features during the last 24 hours and 3 days. Considering some of the samples with incorrect data were removed from the dataset on preprocessing, using the last 24 samples is not guaranteed to use the last 24 hours of samples. For the purpose of this analysis we will assume this simplification, but we will try to improve it at the end of the notebook by using the datetime values instead.\n",
    "\n",
    "As regards normalization, we applied min-max normalization to the wind direction attributes, since their values go from 0 to 360 degrees. But ideally, that value should be converted to a 2-dimensional vector with the sinus and cosinus of the value, so that the values close to 0 have a more similar representation to values close to 360 degrees. The rest of the attributes were standardized to zero mean and unit variance."
   ]
  },
  {
   "cell_type": "code",
   "execution_count": 46,
   "metadata": {},
   "outputs": [],
   "source": [
    "\n",
    "def get_aggregate_features_to_standardize():\n",
    "    three_days = 3*24\n",
    "    aggregates_to_standardize = feature_extraction.Agg(on='humidity', by=None, how=utils.Rolling(stats.Mean(), 24)) \\\n",
    "        + feature_extraction.Agg(on='temperature', by=None, how=utils.Rolling(stats.Mean(), 24)) \\\n",
    "        + feature_extraction.Agg(on='pressure', by=None, how=utils.Rolling(stats.Mean(), 24)) \\\n",
    "        + feature_extraction.Agg(on='wind_speed', by=None, how=utils.Rolling(stats.Mean(), 24))\n",
    "    aggregates_to_standardize_3_days = ( \\\n",
    "        feature_extraction.Agg(on='humidity', by=None, how=utils.Rolling(stats.Mean(), three_days)) \\\n",
    "        + feature_extraction.Agg(on='temperature', by=None, how=utils.Rolling(stats.Mean(), three_days)) \\\n",
    "        + feature_extraction.Agg(on='pressure', by=None, how=utils.Rolling(stats.Mean(), three_days)) \\\n",
    "        + feature_extraction.Agg(on='wind_speed', by=None, how=utils.Rolling(stats.Mean(), three_days)) \\\n",
    "        ) | compose.Prefixer('3day_')\n",
    "    return aggregates_to_standardize + aggregates_to_standardize_3_days\n",
    "\n",
    "def get_standardized_features():\n",
    "    feature_names_to_standardize = ['humidity', 'temperature', 'pressure', 'wind_speed']\n",
    "    features_to_standardize = compose.Select(*feature_names_to_standardize) + get_aggregate_features_to_standardize()\n",
    "    standardized = features_to_standardize | preprocessing.StandardScaler()\n",
    "    return standardized\n",
    "\n",
    "def get_normalized_features():\n",
    "    three_days = 3*24\n",
    "    aggregates_to_normalize = feature_extraction.Agg(on='wind_direction', by=None, how=utils.Rolling(stats.Mean(), 24)) \\\n",
    "        + feature_extraction.Agg(on='wind_direction', by=None, how=utils.Rolling(stats.Mean(), three_days))\n",
    "    features_to_normalize = compose.Select('wind_direction') + aggregates_to_normalize \n",
    "    normalized = features_to_normalize | preprocessing.MinMaxScaler()\n",
    "    return normalized\n",
    "\n",
    "def get_all_features():\n",
    "    return get_standardized_features() + get_normalized_features()\n"
   ]
  },
  {
   "cell_type": "code",
   "execution_count": 47,
   "metadata": {},
   "outputs": [
    {
     "name": "stdout",
     "output_type": "stream",
     "text": [
      "[10,000] WeightedF1: 59.12%\n",
      "[20,000] WeightedF1: 59.06%\n",
      "[30,000] WeightedF1: 56.62%\n",
      "[40,000] WeightedF1: 56.27%\n"
     ]
    }
   ],
   "source": [
    "\n",
    "data = stream.iter_pandas(inputs, transformed_targets.iloc[:,0])\n",
    "\n",
    "model = get_all_features()\n",
    "model |= neighbors.KNNClassifier()\n",
    "\n",
    "#metric = metrics.ClassificationReport()\n",
    "metric = metrics.WeightedF1()\n",
    "evaluate.progressive_val_score(dataset=data, model=model, metric=metric, print_every=10_000)\n",
    "\n",
    "add_stream_result(\"KNN+F+S\", metric)"
   ]
  },
  {
   "attachments": {},
   "cell_type": "markdown",
   "metadata": {},
   "source": [
    "### Stream model with Hoeffding tree"
   ]
  },
  {
   "cell_type": "code",
   "execution_count": 48,
   "metadata": {},
   "outputs": [
    {
     "name": "stdout",
     "output_type": "stream",
     "text": [
      "[10,000] WeightedF1: 23.50%\n",
      "[20,000] WeightedF1: 15.55%\n",
      "[30,000] WeightedF1: 13.78%\n",
      "[40,000] WeightedF1: 13.33%\n"
     ]
    }
   ],
   "source": [
    "\n",
    "data = stream.iter_pandas(inputs, transformed_targets.iloc[:,0])\n",
    "\n",
    "model = get_all_features()\n",
    "model |= HoeffdingTreeClassifier()\n",
    "\n",
    "#metric = metrics.ClassificationReport()\n",
    "metric = metrics.WeightedF1() \n",
    "evaluate.progressive_val_score(dataset=data, model=model, metric=metric, print_every=10_000)\n",
    "\n",
    "add_stream_result(\"HTC\", metric)"
   ]
  },
  {
   "attachments": {},
   "cell_type": "markdown",
   "metadata": {},
   "source": [
    "### Concept drift\n",
    "\n",
    "The data is subject to concept drift since it represents wheather data from 5 years, so there are already significant changes in the distribution of the input features and their relationship with the targets due to seasonal changes.\n",
    "\n",
    "Moreover, long-term changes in the climate can also cause concept drift and also affect the model performance.\n",
    "\n",
    "#### Data drift detection with ADWIN detector"
   ]
  },
  {
   "cell_type": "code",
   "execution_count": 49,
   "metadata": {},
   "outputs": [
    {
     "name": "stdout",
     "output_type": "stream",
     "text": [
      "humidity\n",
      "Number of changes detected 364\n"
     ]
    },
    {
     "data": {
      "image/png": "[encoded data removed]",
      "text/plain": [
       "<Figure size 700x300 with 2 Axes>"
      ]
     },
     "metadata": {},
     "output_type": "display_data"
    },
    {
     "name": "stdout",
     "output_type": "stream",
     "text": [
      "temperature\n",
      "Number of changes detected 725\n"
     ]
    },
    {
     "data": {
      "image/png": "[encoded data removed]",
      "text/plain": [
       "<Figure size 700x300 with 2 Axes>"
      ]
     },
     "metadata": {},
     "output_type": "display_data"
    },
    {
     "name": "stdout",
     "output_type": "stream",
     "text": [
      "pressure\n",
      "Number of changes detected 1228\n"
     ]
    },
    {
     "data": {
      "image/png": "[encoded data removed]",
      "text/plain": [
       "<Figure size 700x300 with 2 Axes>"
      ]
     },
     "metadata": {},
     "output_type": "display_data"
    },
    {
     "name": "stdout",
     "output_type": "stream",
     "text": [
      "wind_speed\n",
      "Number of changes detected 1444\n"
     ]
    },
    {
     "data": {
      "image/png": "[encoded data removed]",
      "text/plain": [
       "<Figure size 700x300 with 2 Axes>"
      ]
     },
     "metadata": {},
     "output_type": "display_data"
    },
    {
     "name": "stdout",
     "output_type": "stream",
     "text": [
      "wind_direction\n",
      "Number of changes detected 1798\n"
     ]
    },
    {
     "data": {
      "image/png": "[encoded data removed]",
      "text/plain": [
       "<Figure size 700x300 with 2 Axes>"
      ]
     },
     "metadata": {},
     "output_type": "display_data"
    }
   ],
   "source": [
    "\n",
    "# Auxiliary function to analyse the data\n",
    "def plot_data(stream_plot, dists, drifts=None):\n",
    "    fig = plt.figure(figsize=(7,3), tight_layout=True)\n",
    "    gs = gridspec.GridSpec(1, 2, width_ratios=[3, 1])\n",
    "    ax1, ax2 = plt.subplot(gs[0]), plt.subplot(gs[1])\n",
    "    ax1.grid()\n",
    "    ax1.plot(stream_plot, label='Stream')\n",
    "    ax2.grid(axis='y')\n",
    "    for id, dist in enumerate(dists):\n",
    "        ax2.hist(dist, label=f'dist_{id}')\n",
    "    if drifts is not None:\n",
    "        for drift_detected in drifts:\n",
    "            ax1.axvline(drift_detected, color='red')\n",
    "    plt.show()\n",
    "\n",
    "\n",
    "drift_detector = drift.ADWIN()\n",
    "drifts = []\n",
    "\n",
    "for k in range(len(inputs.columns)):\n",
    "    var_name = inputs.columns.values[k]\n",
    "    print(var_name)\n",
    "    data_stream = inputs.iloc[:,k] \n",
    "    for i, val in enumerate(data_stream):\n",
    "        # Data is processed one sample at a time\n",
    "        drift_detector.update(val)\n",
    "        if drift_detector.drift_detected:\n",
    "            # The drift detector indicates after each sample if there is a drift in the data\n",
    "            # print(f'Change detected at index {i}')\n",
    "            drifts.append(i)\n",
    "    print(f'Number of changes detected {len(drifts)}')\n",
    "    plot_data(data_stream, [inputs.iloc[:,k]], drifts)\n"
   ]
  },
  {
   "cell_type": "code",
   "execution_count": 50,
   "metadata": {},
   "outputs": [
    {
     "name": "stdout",
     "output_type": "stream",
     "text": [
      "A drift was detected at index 133\n",
      "Warning detected at index 276\n",
      "A drift was detected at index 6066\n",
      "Warning detected at index 6221\n",
      "A drift was detected at index 6240\n",
      "Warning detected at index 6449\n",
      "A drift was detected at index 6493\n",
      "Warning detected at index 6613\n",
      "A drift was detected at index 6701\n",
      "Warning detected at index 6823\n",
      "A drift was detected at index 6839\n",
      "Warning detected at index 7009\n",
      "A drift was detected at index 7041\n",
      "Warning detected at index 7235\n",
      "A drift was detected at index 7249\n",
      "Warning detected at index 7399\n",
      "A drift was detected at index 7416\n",
      "A drift was detected at index 7562\n",
      "Warning detected at index 7713\n",
      "A drift was detected at index 7732\n",
      "Warning detected at index 8132\n",
      "A drift was detected at index 8161\n",
      "Warning detected at index 8279\n",
      "A drift was detected at index 8297\n",
      "A drift was detected at index 8454\n",
      "A drift was detected at index 8781\n",
      "Warning detected at index 8914\n",
      "A drift was detected at index 8925\n",
      "A drift was detected at index 9446\n",
      "A drift was detected at index 9753\n",
      "A drift was detected at index 10004\n",
      "A drift was detected at index 10355\n",
      "A drift was detected at index 10604\n",
      "A drift was detected at index 10907\n",
      "A drift was detected at index 11054\n",
      "Warning detected at index 11271\n",
      "A drift was detected at index 11496\n",
      "A drift was detected at index 11628\n",
      "Warning detected at index 11743\n",
      "A drift was detected at index 11764\n",
      "Warning detected at index 11929\n",
      "A drift was detected at index 12059\n",
      "Warning detected at index 12175\n",
      "A drift was detected at index 12234\n",
      "Warning detected at index 12350\n",
      "A drift was detected at index 12369\n",
      "Warning detected at index 12485\n",
      "A drift was detected at index 12561\n",
      "Warning detected at index 12708\n",
      "A drift was detected at index 13685\n",
      "A drift was detected at index 13850\n",
      "A drift was detected at index 14036\n",
      "A drift was detected at index 14239\n",
      "Warning detected at index 14363\n",
      "A drift was detected at index 14371\n",
      "Warning detected at index 14527\n",
      "A drift was detected at index 14536\n",
      "Warning detected at index 14663\n",
      "A drift was detected at index 14664\n",
      "Warning detected at index 14783\n",
      "A drift was detected at index 14856\n",
      "Warning detected at index 14993\n",
      "A drift was detected at index 15042\n",
      "Warning detected at index 15167\n",
      "A drift was detected at index 15193\n",
      "Warning detected at index 15311\n",
      "A drift was detected at index 15327\n",
      "Warning detected at index 15445\n",
      "A drift was detected at index 15934\n",
      "Warning detected at index 16092\n",
      "A drift was detected at index 16119\n",
      "Warning detected at index 16273\n",
      "A drift was detected at index 16296\n",
      "Warning detected at index 16476\n",
      "A drift was detected at index 17390\n",
      "Warning detected at index 17505\n",
      "A drift was detected at index 17526\n",
      "Warning detected at index 17648\n",
      "A drift was detected at index 17660\n",
      "Warning detected at index 17782\n",
      "A drift was detected at index 17788\n",
      "Warning detected at index 17929\n",
      "A drift was detected at index 17944\n",
      "Warning detected at index 18080\n",
      "A drift was detected at index 18129\n",
      "Warning detected at index 18319\n",
      "A drift was detected at index 18355\n",
      "Warning detected at index 18493\n",
      "A drift was detected at index 18572\n",
      "Warning detected at index 18790\n",
      "A drift was detected at index 18814\n",
      "A drift was detected at index 19008\n",
      "A drift was detected at index 19182\n",
      "A drift was detected at index 19372\n",
      "A drift was detected at index 19537\n",
      "Warning detected at index 19719\n",
      "A drift was detected at index 19806\n",
      "Warning detected at index 19944\n",
      "A drift was detected at index 19947\n",
      "Warning detected at index 20111\n",
      "A drift was detected at index 20125\n",
      "Warning detected at index 20306\n",
      "A drift was detected at index 20310\n",
      "Warning detected at index 20449\n",
      "A drift was detected at index 20452\n",
      "Warning detected at index 20591\n",
      "A drift was detected at index 20605\n",
      "Warning detected at index 20754\n",
      "A drift was detected at index 20769\n",
      "A drift was detected at index 20931\n",
      "Warning detected at index 21046\n",
      "A drift was detected at index 21101\n",
      "Warning detected at index 21234\n",
      "A drift was detected at index 21249\n",
      "A drift was detected at index 21413\n",
      "Warning detected at index 21684\n",
      "A drift was detected at index 21757\n",
      "Warning detected at index 21955\n",
      "A drift was detected at index 21968\n",
      "A drift was detected at index 22132\n",
      "Warning detected at index 22266\n",
      "A drift was detected at index 22405\n",
      "A drift was detected at index 22584\n",
      "Warning detected at index 22742\n",
      "A drift was detected at index 22761\n",
      "Warning detected at index 22921\n",
      "A drift was detected at index 22942\n",
      "Warning detected at index 23090\n",
      "A drift was detected at index 23098\n",
      "Warning detected at index 23257\n",
      "A drift was detected at index 27389\n",
      "Warning detected at index 27515\n",
      "A drift was detected at index 27605\n",
      "Warning detected at index 27792\n",
      "A drift was detected at index 27808\n",
      "Warning detected at index 27944\n",
      "A drift was detected at index 27969\n",
      "Warning detected at index 28097\n",
      "A drift was detected at index 28117\n",
      "Warning detected at index 28268\n"
     ]
    }
   ],
   "source": [
    "\n",
    "data = stream.iter_pandas(inputs, transformed_targets.iloc[:,0])\n",
    "\n",
    "# Model to use for detecting drifts in the model predictions.\n",
    "model = preprocessing.StandardScaler()\n",
    "model |= tree.ExtremelyFastDecisionTreeClassifier()\n",
    "\n",
    "# We are waiting the first 100 observations before starting to analyze the drif\n",
    "ddm = drift.EDDM(warm_start=100) \n",
    "# We similate the data stream with a loop\n",
    "trigger_warning=True\n",
    "i = 0\n",
    "for xx, yy in data:\n",
    "    # Make a prediction without using the target\n",
    "    y_pred = model.predict_one(xx)\n",
    "    # Update the model using the target\n",
    "    model.learn_one(xx, yy)\n",
    "    # Update the drift detector with the error.\n",
    "    error = 0 if yy == y_pred else 1\n",
    "    ddm.update(error)\n",
    "    if ddm.warning_detected and trigger_warning:\n",
    "        print(f\"Warning detected at index {i}\")\n",
    "        # Once the threshod is overpassed, it is usually overpassed  during many iterations.\n",
    "        trigger_warning=False\n",
    "    if ddm.drift_detected:\n",
    "        print(f\"A drift was detected at index {i}\")\n",
    "        trigger_warning=True\n",
    "    i += 1\n"
   ]
  },
  {
   "attachments": {},
   "cell_type": "markdown",
   "metadata": {},
   "source": [
    "### Adaptative Hoeffding tree"
   ]
  },
  {
   "cell_type": "code",
   "execution_count": 51,
   "metadata": {},
   "outputs": [
    {
     "name": "stdout",
     "output_type": "stream",
     "text": [
      "[10,000] WeightedF1: 23.45%\n",
      "[20,000] WeightedF1: 15.45%\n",
      "[30,000] WeightedF1: 13.73%\n",
      "[40,000] WeightedF1: 13.30%\n"
     ]
    }
   ],
   "source": [
    "\n",
    "data = stream.iter_pandas(inputs, transformed_targets.iloc[:,0])\n",
    "\n",
    "model = get_all_features()\n",
    "model |= tree.HoeffdingAdaptiveTreeClassifier(max_depth=17)\n",
    "\n",
    "#metric = metrics.ClassificationReport()\n",
    "metric = metrics.WeightedF1()\n",
    "\n",
    "evaluate.progressive_val_score(dataset=data, model=model, metric=metric, print_every=10_000)\n",
    "\n",
    "add_stream_result(\"AHTC\", metric)\n"
   ]
  },
  {
   "attachments": {},
   "cell_type": "markdown",
   "metadata": {},
   "source": [
    "### Binary problem\n",
    "\n",
    "Seeing the complexity of the multiclass problem with so many classes, we also tried a variant of the problem where we joined multiple classes into two in order to be able to predict good or bad weather."
   ]
  },
  {
   "cell_type": "code",
   "execution_count": 52,
   "metadata": {},
   "outputs": [
    {
     "name": "stdout",
     "output_type": "stream",
     "text": [
      "[26  0 24  3]\n"
     ]
    },
    {
     "data": {
      "text/html": [
       "<div>\n",
       "<style scoped>\n",
       "    .dataframe tbody tr th:only-of-type {\n",
       "        vertical-align: middle;\n",
       "    }\n",
       "\n",
       "    .dataframe tbody tr th {\n",
       "        vertical-align: top;\n",
       "    }\n",
       "\n",
       "    .dataframe thead th {\n",
       "        text-align: right;\n",
       "    }\n",
       "</style>\n",
       "<table border=\"1\" class=\"dataframe\">\n",
       "  <thead>\n",
       "    <tr style=\"text-align: right;\">\n",
       "      <th></th>\n",
       "      <th>weather_description</th>\n",
       "    </tr>\n",
       "  </thead>\n",
       "  <tbody>\n",
       "    <tr>\n",
       "      <th>0</th>\n",
       "      <td>good</td>\n",
       "    </tr>\n",
       "    <tr>\n",
       "      <th>1</th>\n",
       "      <td>good</td>\n",
       "    </tr>\n",
       "    <tr>\n",
       "      <th>2</th>\n",
       "      <td>good</td>\n",
       "    </tr>\n",
       "    <tr>\n",
       "      <th>3</th>\n",
       "      <td>good</td>\n",
       "    </tr>\n",
       "    <tr>\n",
       "      <th>4</th>\n",
       "      <td>good</td>\n",
       "    </tr>\n",
       "    <tr>\n",
       "      <th>...</th>\n",
       "      <td>...</td>\n",
       "    </tr>\n",
       "    <tr>\n",
       "      <th>43604</th>\n",
       "      <td>good</td>\n",
       "    </tr>\n",
       "    <tr>\n",
       "      <th>43605</th>\n",
       "      <td>good</td>\n",
       "    </tr>\n",
       "    <tr>\n",
       "      <th>43606</th>\n",
       "      <td>good</td>\n",
       "    </tr>\n",
       "    <tr>\n",
       "      <th>43607</th>\n",
       "      <td>good</td>\n",
       "    </tr>\n",
       "    <tr>\n",
       "      <th>43608</th>\n",
       "      <td>good</td>\n",
       "    </tr>\n",
       "  </tbody>\n",
       "</table>\n",
       "<p>43609 rows × 1 columns</p>\n",
       "</div>"
      ],
      "text/plain": [
       "      weather_description\n",
       "0                    good\n",
       "1                    good\n",
       "2                    good\n",
       "3                    good\n",
       "4                    good\n",
       "...                   ...\n",
       "43604                good\n",
       "43605                good\n",
       "43606                good\n",
       "43607                good\n",
       "43608                good\n",
       "\n",
       "[43609 rows x 1 columns]"
      ]
     },
     "metadata": {},
     "output_type": "display_data"
    }
   ],
   "source": [
    "\n",
    "good_weather = ['sky is clear', 'broken clouds', 'scattered clouds', 'few clouds']\n",
    "good_weather_ints = le.transform(good_weather)\n",
    "print(good_weather_ints)\n",
    "\n",
    "binary_targets = transformed_targets.copy()\n",
    "\n",
    "binary_targets['weather_description'] = 'bad'\n",
    "for good_weather_int in good_weather_ints:\n",
    "    binary_targets.loc[transformed_targets['weather_description'] == good_weather_int] = 'good'\n",
    "\n",
    "display(binary_targets)\n"
   ]
  },
  {
   "cell_type": "code",
   "execution_count": 54,
   "metadata": {},
   "outputs": [
    {
     "name": "stdout",
     "output_type": "stream",
     "text": [
      "[10,000] WeightedF1: 86.29%\n",
      "[20,000] WeightedF1: 85.44%\n",
      "[30,000] WeightedF1: 84.51%\n",
      "[40,000] WeightedF1: 84.59%\n"
     ]
    }
   ],
   "source": [
    "\n",
    "data = stream.iter_pandas(inputs, binary_targets.iloc[:,0])\n",
    "\n",
    "model = get_all_features()\n",
    "model |= neighbors.KNNClassifier()\n",
    "\n",
    "#metric = metrics.ClassificationReport()\n",
    "metric = metrics.WeightedF1()\n",
    "\n",
    "evaluate.progressive_val_score(dataset=data, model=model, metric=metric, print_every=10_000)\n",
    "\n",
    "add_stream_result(\"BIN/KNN\", metric)\n"
   ]
  },
  {
   "cell_type": "code",
   "execution_count": 55,
   "metadata": {},
   "outputs": [
    {
     "name": "stdout",
     "output_type": "stream",
     "text": [
      "[10,000] WeightedF1: 77.27%\n",
      "[20,000] WeightedF1: 75.52%\n",
      "[30,000] WeightedF1: 75.37%\n",
      "[40,000] WeightedF1: 74.75%\n"
     ]
    }
   ],
   "source": [
    "\n",
    "data = stream.iter_pandas(inputs,  binary_targets.iloc[:,0])\n",
    "\n",
    "model = get_all_features()\n",
    "model |= tree.HoeffdingAdaptiveTreeClassifier()\n",
    "\n",
    "#metric = metrics.ClassificationReport()\n",
    "metric = metrics.WeightedF1() \n",
    "\n",
    "evaluate.progressive_val_score(dataset=data, model=model, metric=metric, print_every=10_000)\n",
    "\n",
    "add_stream_result(\"BIN/AHTC\", metric)"
   ]
  },
  {
   "attachments": {},
   "cell_type": "markdown",
   "metadata": {},
   "source": [
    "### Ensemble models"
   ]
  },
  {
   "cell_type": "code",
   "execution_count": 56,
   "metadata": {},
   "outputs": [
    {
     "name": "stdout",
     "output_type": "stream",
     "text": [
      "[10,000] WeightedF1: 78.23%\n",
      "[20,000] WeightedF1: 77.37%\n",
      "[30,000] WeightedF1: 77.07%\n",
      "[40,000] WeightedF1: 76.83%\n"
     ]
    }
   ],
   "source": [
    "\n",
    "data = stream.iter_pandas(inputs, binary_targets.iloc[:,0])\n",
    "\n",
    "submodel = get_all_features()\n",
    "submodel |= tree.HoeffdingAdaptiveTreeClassifier()\n",
    "\n",
    "model = ensemble.ADWINBaggingClassifier(model=submodel)\n",
    "\n",
    "#metric = metrics.ClassificationReport()\n",
    "metric = metrics.WeightedF1() \n",
    "\n",
    "evaluate.progressive_val_score(dataset=data, model=model, metric=metric, print_every=10_000)\n",
    "\n",
    "add_stream_result(\"BIN/ABC\", metric)"
   ]
  },
  {
   "attachments": {},
   "cell_type": "markdown",
   "metadata": {},
   "source": [
    "## Model comparison"
   ]
  },
  {
   "cell_type": "code",
   "execution_count": 69,
   "metadata": {},
   "outputs": [
    {
     "name": "stdout",
     "output_type": "stream",
     "text": [
      "#: Model \t Weighted F1 %\n",
      "1: B/DT \t 35.79%\n",
      "2: B/KNN \t 35.84%\n",
      "3: B/ANN \t 25.68%\n",
      "4: B/RF \t 44.57%\n",
      "5: S/KNN \t 46.26%\n",
      "6: S/KNN+F+S \t 55.82%\n",
      "7: S/HTC \t 13.95%\n",
      "8: S/AHTC \t 15.36%\n",
      "9: S/BIN/KNN \t 84.43%\n",
      "10: S/BIN/AHTC \t 74.94%\n",
      "11: S/BIN/ABC \t 77.05%\n"
     ]
    },
    {
     "data": {
      "image/png": "[encoded data removed]",
      "text/plain": [
       "<Figure size 640x480 with 1 Axes>"
      ]
     },
     "metadata": {},
     "output_type": "display_data"
    }
   ],
   "source": [
    "numbers = []\n",
    "names = []\n",
    "avgs = []\n",
    "stds = []\n",
    "i = 1\n",
    "for model_result in model_results:\n",
    "    numbers.append(f\"{i}\")\n",
    "    names.append(model_result.name)\n",
    "    avgs.append(model_result.val_score)\n",
    "    stds.append(model_result.val_score_std)\n",
    "    i += 1\n",
    "print(f'#: Model \\t Weighted F1 %')\n",
    "for i in range(len(numbers)):\n",
    "    score = \"{:.2f}\".format(avgs[i]*100)\n",
    "    print(f'{numbers[i]}: {names[i]} \\t {score}%')\n",
    "plt.errorbar(numbers, avgs, stds, linestyle='None', marker='*', ecolor='red')\n",
    "plt.ylim([0, 1])\n",
    "plt.show()"
   ]
  },
  {
   "attachments": {},
   "cell_type": "markdown",
   "metadata": {},
   "source": [
    "## Models with date time"
   ]
  },
  {
   "cell_type": "code",
   "execution_count": null,
   "metadata": {},
   "outputs": [],
   "source": [
    "# Does not work\n",
    "\n",
    "import datetime as dt\n",
    "\n",
    "def transform_to_date(x):\n",
    "    return dt.datetime.fromisoformat(x[\"datetime\"])\n",
    "\n",
    "def get_date(x):\n",
    "    return { \"datetime\": dt.datetime.fromisoformat(x[\"datetime\"]) }\n",
    "\n",
    "data = stream.iter_pandas(inputs, transformed_targets.iloc[:,0])\n",
    "\n",
    "date = compose.Select('datetime') | get_date \n",
    "agg = feature_extraction.Agg(on=\"humidity\", by=None, how=utils.TimeRolling(stats.Mean(), period=dt.timedelta(days=3)))\n",
    "rest = compose.Discard('datetime') | preprocessing.StandardScaler()\n",
    "model = date + agg + rest\n",
    "model |= tree.ExtremelyFastDecisionTreeClassifier()\n",
    "\n",
    "#x, y = next(iter(data))\n",
    "#print(model.debug_one(x))\n",
    "evaluate.progressive_val_score(dataset=data, model=model, metric=metrics.WeightedF1(),\n",
    "                print_every=10_000, moment=transform_to_date, delay=dt.timedelta(0))\n"
   ]
  },
  {
   "attachments": {},
   "cell_type": "markdown",
   "metadata": {},
   "source": [
    "## Conclusions and Future Work\n",
    "\n",
    "### Conclusions\n",
    "\n",
    "1. The accuracy and f1 score of the batch models and the stream models of the multiclass classification problem are very low, even using the adaptative stream models. Although there are a lot of classes and the percentage of values of the most frequent class is 26%.\n",
    "    1. Best weighted F1 score batch: Random Forest around 44%.\n",
    "    1. Best weighted F1 score stream: KNN with features and scaling around 55%.\n",
    "1. The binary classification problem the accuracy and weighted f1 scores are much higher.\n",
    "    1. Best weighted F1 score close to 85% corresponds to the stream model with the KNN classifier. \n",
    "1. The engineered features improved the metrics significantly (around 10% more).\n",
    "1. The hypeparameter tuning did not significantly improve the stream models.\n",
    "1. The drift detectors detect too many drifts both in the data and the predicted values. It could be related to the poor performance of the models.\n",
    "1. The adaptative models performed very badly, probably due to the underlying drift detectors detecting too many drifts so that the model was adapting too often without time to learn to predict the temporal values.\n",
    "\n",
    "### Future Work\n",
    "\n",
    "1. Use forecasting models instead of nowcasting to predict the future weather.\n",
    "1. Use date-time for the rolling averages instead of a certain number of samples.\n",
    "1. Use upsampling/downsampling to compensate for the unbalanced classes.\n",
    "1. Use a holdout of the dataset to evaluate the batch models with unseen data to see assess the fairness of the comparison using cross-validation scores.\n",
    "1. Add engineered features to the batch models.\n"
   ]
  }
 ],
 "metadata": {
  "kernelspec": {
   "display_name": "ml2",
   "language": "python",
   "name": "python3"
  },
  "language_info": {
   "codemirror_mode": {
    "name": "ipython",
    "version": 3
   },
   "file_extension": ".py",
   "mimetype": "text/x-python",
   "name": "python",
   "nbconvert_exporter": "python",
   "pygments_lexer": "ipython3",
   "version": "3.10.9"
  },
  "orig_nbformat": 4,
  "vscode": {
   "interpreter": {
    "hash": "c06fbe9b755e41a95cd85de5a8d138ea7822c96fdef3f1ad754303be168c1c56"
   }
  }
 },
 "nbformat": 4,
 "nbformat_minor": 2
}
